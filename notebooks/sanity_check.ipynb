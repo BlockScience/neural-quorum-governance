{
 "cells": [
  {
   "cell_type": "markdown",
   "metadata": {},
   "source": [
    "# Sanity Checking the NQG simulation\n",
    "\n",
    "This notebook performs a simulation run with the default parameter set\n",
    "for a single run. It is meant to provide quick diagnostics on the model\n",
    "capabilities.\n",
    "\n"
   ]
  },
  {
   "cell_type": "markdown",
   "metadata": {},
   "source": [
    "## Part 1. Dependences & Set-up"
   ]
  },
  {
   "cell_type": "code",
   "execution_count": 1,
   "metadata": {},
   "outputs": [],
   "source": [
    "import sys\n",
    "sys.path.append('../')\n",
    "\n",
    "import os\n",
    "\n",
    "import numpy as np\n",
    "import pandas as pd\n",
    "\n",
    "\n",
    "import matplotlib.pyplot as plt\n",
    "import plotly.express as px\n",
    "import plotly.io as pio\n",
    "\n",
    "from cadCAD_tools import easy_run\n",
    "\n",
    "pio.renderers.default = \"png\" # For GitHub rendering"
   ]
  },
  {
   "cell_type": "markdown",
   "metadata": {},
   "source": [
    "## Part 2. Simulation set-up & execution"
   ]
  },
  {
   "cell_type": "code",
   "execution_count": 3,
   "metadata": {},
   "outputs": [
    {
     "name": "stdout",
     "output_type": "stream",
     "text": [
      "\n",
      "                  ___________    ____\n",
      "  ________ __ ___/ / ____/   |  / __ \\\n",
      " / ___/ __` / __  / /   / /| | / / / /\n",
      "/ /__/ /_/ / /_/ / /___/ ___ |/ /_/ /\n",
      "\\___/\\__,_/\\__,_/\\____/_/  |_/_____/\n",
      "by cadCAD\n",
      "\n",
      "cadCAD Version: 0.4.28\n",
      "Execution Mode: local_proc\n",
      "Simulation Dimensions:\n",
      "Entire Simulation: (Models, Unique Timesteps, Params, Total Runs, Sub-States) = (1, 100, 22, 1, 10)\n",
      "     Simulation 0: (Timesteps, Params, Runs, Sub-States) = (100, 22, 1, 10)\n"
     ]
    },
    {
     "data": {
      "application/vnd.jupyter.widget-view+json": {
       "model_id": "0c65986d3282466d91272699a229a19e",
       "version_major": 2,
       "version_minor": 0
      },
      "text/plain": [
       "Initializing configurations:   0%|          | 0/1 [00:00<?, ?it/s]"
      ]
     },
     "metadata": {},
     "output_type": "display_data"
    },
    {
     "name": "stdout",
     "output_type": "stream",
     "text": [
      "Execution Method: local_simulations\n",
      "Execution Mode: single_threaded\n"
     ]
    },
    {
     "data": {
      "application/vnd.jupyter.widget-view+json": {
       "model_id": "e2cc834647d44b7096c372af1e94b66c",
       "version_major": 2,
       "version_minor": 0
      },
      "text/plain": [
       "Flattening results:   0%|          | 0/501 [00:00<?, ?it/s]"
      ]
     },
     "metadata": {},
     "output_type": "display_data"
    },
    {
     "name": "stdout",
     "output_type": "stream",
     "text": [
      "Total execution time: 0.56s\n"
     ]
    }
   ],
   "source": [
    "from nqg_model.params import INITIAL_STATE\n",
    "from nqg_model.params import SINGLE_RUN_PARAMS\n",
    "from nqg_model.params import TIMESTEPS\n",
    "from nqg_model.params import SAMPLES\n",
    "from nqg_model.structure import NQG_MODEL_BLOCKS\n",
    "\n",
    "default_run_args = (INITIAL_STATE,\n",
    "                     {k: [v] for k, v in SINGLE_RUN_PARAMS.items()},\n",
    "                    NQG_MODEL_BLOCKS,\n",
    "                    TIMESTEPS,\n",
    "                    SAMPLES)\n",
    "sim_df = easy_run(*default_run_args, assign_params=False)"
   ]
  },
  {
   "cell_type": "code",
   "execution_count": 4,
   "metadata": {},
   "outputs": [
    {
     "data": {
      "text/html": [
       "<div>\n",
       "<style scoped>\n",
       "    .dataframe tbody tr th:only-of-type {\n",
       "        vertical-align: middle;\n",
       "    }\n",
       "\n",
       "    .dataframe tbody tr th {\n",
       "        vertical-align: top;\n",
       "    }\n",
       "\n",
       "    .dataframe thead th {\n",
       "        text-align: right;\n",
       "    }\n",
       "</style>\n",
       "<table border=\"1\" class=\"dataframe\">\n",
       "  <thead>\n",
       "    <tr style=\"text-align: right;\">\n",
       "      <th></th>\n",
       "      <th>days_passed</th>\n",
       "      <th>delta_days</th>\n",
       "      <th>users</th>\n",
       "      <th>user_round_decisions</th>\n",
       "      <th>delegatees</th>\n",
       "      <th>trustees</th>\n",
       "      <th>action_matrix</th>\n",
       "      <th>vote_matrix</th>\n",
       "      <th>per_project_voting</th>\n",
       "      <th>oracle_state</th>\n",
       "      <th>simulation</th>\n",
       "      <th>subset</th>\n",
       "      <th>run</th>\n",
       "      <th>timestep</th>\n",
       "    </tr>\n",
       "  </thead>\n",
       "  <tbody>\n",
       "    <tr>\n",
       "      <th>0</th>\n",
       "      <td>0.0</td>\n",
       "      <td>NaN</td>\n",
       "      <td>[]</td>\n",
       "      <td>{}</td>\n",
       "      <td>{}</td>\n",
       "      <td>{}</td>\n",
       "      <td>{}</td>\n",
       "      <td>{}</td>\n",
       "      <td>{}</td>\n",
       "      <td>OracleState(pagerank_results={}, reputation_bo...</td>\n",
       "      <td>0</td>\n",
       "      <td>0</td>\n",
       "      <td>1</td>\n",
       "      <td>0</td>\n",
       "    </tr>\n",
       "    <tr>\n",
       "      <th>5</th>\n",
       "      <td>1.0</td>\n",
       "      <td>1.0</td>\n",
       "      <td>[User(label='0', reputation=&lt;ReputationCategor...</td>\n",
       "      <td>{'0': Action.Abstain, '2': Action.Abstain}</td>\n",
       "      <td>{}</td>\n",
       "      <td>{}</td>\n",
       "      <td>{'0': {}, '2': {}}</td>\n",
       "      <td>{'0': {'proj_11': 0.0, 'proj_0': 0.0, 'proj_1'...</td>\n",
       "      <td>{}</td>\n",
       "      <td>OracleState(pagerank_results={}, reputation_bo...</td>\n",
       "      <td>0</td>\n",
       "      <td>0</td>\n",
       "      <td>1</td>\n",
       "      <td>1</td>\n",
       "    </tr>\n",
       "    <tr>\n",
       "      <th>10</th>\n",
       "      <td>2.0</td>\n",
       "      <td>1.0</td>\n",
       "      <td>[User(label='0', reputation=&lt;ReputationCategor...</td>\n",
       "      <td>{'0': Action.Abstain, '2': Action.Abstain, '4'...</td>\n",
       "      <td>{}</td>\n",
       "      <td>{}</td>\n",
       "      <td>{'0': {}, '2': {}, '4': {'proj_11': Vote.Yes, ...</td>\n",
       "      <td>{'0': {'proj_11': 0.0, 'proj_0': 0.0, 'proj_1'...</td>\n",
       "      <td>{}</td>\n",
       "      <td>OracleState(pagerank_results={}, reputation_bo...</td>\n",
       "      <td>0</td>\n",
       "      <td>0</td>\n",
       "      <td>1</td>\n",
       "      <td>2</td>\n",
       "    </tr>\n",
       "    <tr>\n",
       "      <th>15</th>\n",
       "      <td>3.0</td>\n",
       "      <td>1.0</td>\n",
       "      <td>[User(label='0', reputation=&lt;ReputationCategor...</td>\n",
       "      <td>{'0': Action.Abstain, '2': Action.Abstain, '4'...</td>\n",
       "      <td>{}</td>\n",
       "      <td>{}</td>\n",
       "      <td>{'0': {}, '2': {}, '4': {'proj_11': Vote.Yes, ...</td>\n",
       "      <td>{'0': {'proj_11': 0.0, 'proj_0': 0.0, 'proj_1'...</td>\n",
       "      <td>{}</td>\n",
       "      <td>OracleState(pagerank_results={}, reputation_bo...</td>\n",
       "      <td>0</td>\n",
       "      <td>0</td>\n",
       "      <td>1</td>\n",
       "      <td>3</td>\n",
       "    </tr>\n",
       "    <tr>\n",
       "      <th>20</th>\n",
       "      <td>4.0</td>\n",
       "      <td>1.0</td>\n",
       "      <td>[User(label='0', reputation=&lt;ReputationCategor...</td>\n",
       "      <td>{'0': Action.Abstain, '2': Action.Abstain, '4'...</td>\n",
       "      <td>{}</td>\n",
       "      <td>{}</td>\n",
       "      <td>{'0': {}, '2': {}, '4': {'proj_11': Vote.Yes, ...</td>\n",
       "      <td>{'0': {'proj_11': 0.0, 'proj_0': 0.0, 'proj_1'...</td>\n",
       "      <td>{}</td>\n",
       "      <td>OracleState(pagerank_results={}, reputation_bo...</td>\n",
       "      <td>0</td>\n",
       "      <td>0</td>\n",
       "      <td>1</td>\n",
       "      <td>4</td>\n",
       "    </tr>\n",
       "  </tbody>\n",
       "</table>\n",
       "</div>"
      ],
      "text/plain": [
       "    days_passed  delta_days  \\\n",
       "0           0.0         NaN   \n",
       "5           1.0         1.0   \n",
       "10          2.0         1.0   \n",
       "15          3.0         1.0   \n",
       "20          4.0         1.0   \n",
       "\n",
       "                                                users  \\\n",
       "0                                                  []   \n",
       "5   [User(label='0', reputation=<ReputationCategor...   \n",
       "10  [User(label='0', reputation=<ReputationCategor...   \n",
       "15  [User(label='0', reputation=<ReputationCategor...   \n",
       "20  [User(label='0', reputation=<ReputationCategor...   \n",
       "\n",
       "                                 user_round_decisions delegatees trustees  \\\n",
       "0                                                  {}         {}       {}   \n",
       "5          {'0': Action.Abstain, '2': Action.Abstain}         {}       {}   \n",
       "10  {'0': Action.Abstain, '2': Action.Abstain, '4'...         {}       {}   \n",
       "15  {'0': Action.Abstain, '2': Action.Abstain, '4'...         {}       {}   \n",
       "20  {'0': Action.Abstain, '2': Action.Abstain, '4'...         {}       {}   \n",
       "\n",
       "                                        action_matrix  \\\n",
       "0                                                  {}   \n",
       "5                                  {'0': {}, '2': {}}   \n",
       "10  {'0': {}, '2': {}, '4': {'proj_11': Vote.Yes, ...   \n",
       "15  {'0': {}, '2': {}, '4': {'proj_11': Vote.Yes, ...   \n",
       "20  {'0': {}, '2': {}, '4': {'proj_11': Vote.Yes, ...   \n",
       "\n",
       "                                          vote_matrix per_project_voting  \\\n",
       "0                                                  {}                 {}   \n",
       "5   {'0': {'proj_11': 0.0, 'proj_0': 0.0, 'proj_1'...                 {}   \n",
       "10  {'0': {'proj_11': 0.0, 'proj_0': 0.0, 'proj_1'...                 {}   \n",
       "15  {'0': {'proj_11': 0.0, 'proj_0': 0.0, 'proj_1'...                 {}   \n",
       "20  {'0': {'proj_11': 0.0, 'proj_0': 0.0, 'proj_1'...                 {}   \n",
       "\n",
       "                                         oracle_state  simulation  subset  \\\n",
       "0   OracleState(pagerank_results={}, reputation_bo...           0       0   \n",
       "5   OracleState(pagerank_results={}, reputation_bo...           0       0   \n",
       "10  OracleState(pagerank_results={}, reputation_bo...           0       0   \n",
       "15  OracleState(pagerank_results={}, reputation_bo...           0       0   \n",
       "20  OracleState(pagerank_results={}, reputation_bo...           0       0   \n",
       "\n",
       "    run  timestep  \n",
       "0     1         0  \n",
       "5     1         1  \n",
       "10    1         2  \n",
       "15    1         3  \n",
       "20    1         4  "
      ]
     },
     "execution_count": 4,
     "metadata": {},
     "output_type": "execute_result"
    }
   ],
   "source": [
    "sim_df.head(5)"
   ]
  },
  {
   "cell_type": "markdown",
   "metadata": {},
   "source": [
    "## Part 3. Visualizations\n",
    "\n",
    "On this section, we'll visualize some base metrics on the simulations results"
   ]
  },
  {
   "cell_type": "code",
   "execution_count": null,
   "metadata": {},
   "outputs": [],
   "source": []
  }
 ],
 "metadata": {
  "kernelspec": {
   "display_name": "base",
   "language": "python",
   "name": "python3"
  },
  "language_info": {
   "codemirror_mode": {
    "name": "ipython",
    "version": 3
   },
   "file_extension": ".py",
   "mimetype": "text/x-python",
   "name": "python",
   "nbconvert_exporter": "python",
   "pygments_lexer": "ipython3",
   "version": "3.10.9"
  }
 },
 "nbformat": 4,
 "nbformat_minor": 2
}
