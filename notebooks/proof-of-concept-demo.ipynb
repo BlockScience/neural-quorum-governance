{
 "cells": [
  {
   "cell_type": "markdown",
   "metadata": {},
   "source": [
    "# Demonstration of the SCF Voting Mechanism for PoC Purposes\n",
    "\n",
    "*Danilo Lessa Bernardineli (BlockScience), July 2023*\n",
    "\n",
    "On this Notebook, we'll provide an stylized demonstration for how\n",
    "Neural Governance could be implemented along with four of its modules: Quorum Voting Neuron, Trust Neuron, Voting History Neuron and Expertise Neuron. Detailed instructions can be found on the [SCF Voting Mechanism PoC Specification](https://hackmd.io/GMs8iB1MQEGsJirqqPm3NA) and [SDF Voting Mechanism PoC Design](https://hackmd.io/HzRrf1NtQ_a7nlSvX_stXg?both) documents.\n",
    "\n",
    "\n",
    "As a testing benchmark, we'll also generate fictious datasets that\n",
    "represents the Voting Users, their actions, their trust graph, and the\n",
    "inputs for the Voting History / Expertise Neuron."
   ]
  },
  {
   "cell_type": "markdown",
   "metadata": {},
   "source": [
    "## Code Dependences"
   ]
  },
  {
   "cell_type": "code",
   "execution_count": 1,
   "metadata": {},
   "outputs": [],
   "source": [
    "from enum import Enum, auto\n",
    "from functools import reduce\n",
    "from collections import defaultdict\n",
    "from dataclasses import dataclass\n",
    "\n",
    "import networkx as nx"
   ]
  },
  {
   "cell_type": "markdown",
   "metadata": {},
   "source": [
    "## Definitions"
   ]
  },
  {
   "cell_type": "code",
   "execution_count": 2,
   "metadata": {},
   "outputs": [],
   "source": [
    "UserUUID = str\n",
    "ProjectUUID = str\n",
    "VotingPower = float"
   ]
  },
  {
   "cell_type": "markdown",
   "metadata": {},
   "source": [
    "## Data Structures"
   ]
  },
  {
   "cell_type": "code",
   "execution_count": 3,
   "metadata": {},
   "outputs": [],
   "source": [
    "class Vote(Enum):\n",
    "    Yes = 1.0\n",
    "    No = -1.0\n",
    "    Abstain = 0.0\n",
    "\n",
    "class Action(Enum):\n",
    "    RoundVote = auto()\n",
    "    Delegate = auto()\n",
    "    Abstain = auto()"
   ]
  },
  {
   "cell_type": "markdown",
   "metadata": {},
   "source": [
    "## User Data Generation"
   ]
  },
  {
   "cell_type": "code",
   "execution_count": 4,
   "metadata": {},
   "outputs": [],
   "source": [
    "USERS = ['maria', 'fernando', 'giuseppe', 'sarah', 'tom', 'laura']\n",
    "\n",
    "PROJECTS = {'voting-mech-for-scf', \n",
    "            'quorum-voting'}\n",
    "\n",
    "USER_ACTIONS = {\n",
    "    'maria':(Action.RoundVote, {'voting-mech-for-scf': Vote.Yes, \n",
    "                           'quorum-voting': Vote.Abstain}),\n",
    "    'fernando': (Action.RoundVote, {'voting-mech-for-scf': Vote.Yes}),\n",
    "    'giuseppe': (Action.RoundVote, {'voting-mech-for-scf': Vote.Yes, \n",
    "                               'quorum-voting': Vote.Yes}),\n",
    "    'sarah': (Action.RoundVote, {'voting-mech-for-scf': Vote.Yes, \n",
    "                            'quorum-voting': Vote.No}),\n",
    "    'tom': (Action.RoundVote, USERS),\n",
    "    'laura': (Action.Delegate, ['maria', 'fernando', 'sarah', 'tom'])\n",
    "}\n",
    "\n",
    "\n",
    "TRUST_GRAPH = {'maria': ['fernando', 'giuseppe'], 'fernando': ['giuseppe'], 'giuseppe': ['tom']}\n"
   ]
  },
  {
   "cell_type": "markdown",
   "metadata": {},
   "source": [
    "## Computing Voting Results"
   ]
  },
  {
   "cell_type": "markdown",
   "metadata": {},
   "source": [
    "### Neural Governance Definition"
   ]
  },
  {
   "cell_type": "code",
   "execution_count": 5,
   "metadata": {},
   "outputs": [],
   "source": [
    "# Attribute Voting Power to an (user, project) tuple\n",
    "def user_project_vote_power(uid: UserUUID, \n",
    "                            pid: ProjectUUID, \n",
    "                            neuron_layers: tuple[dict, callable],\n",
    "                            initial_votes: float=0.0) -> VotingPower:\n",
    "    \"\"\"\n",
    "    Computes an User vote towards an Project as based on \n",
    "    an Feedforward implementation of Neural Governance for an strictly\n",
    "    sequential network (no layer parallelism).\n",
    "    \"\"\"\n",
    "    current_vote = initial_votes\n",
    "    for layer in neuron_layers:\n",
    "        (neurons, layer_aggregator) = layer\n",
    "        neuron_votes = []\n",
    "        for (neuron_label, neuron) in neurons.items():\n",
    "            (oracle_function, weighting_function) = neuron\n",
    "            raw_neuron_vote = oracle_function(uid, pid, current_vote)\n",
    "            neuron_votes.append(weighting_function(raw_neuron_vote))\n",
    "        current_vote = layer_aggregator(neuron_votes)\n",
    "    return current_vote"
   ]
  },
  {
   "cell_type": "markdown",
   "metadata": {},
   "source": [
    "### Defining Neurons\n",
    "\n",
    "#### 1st Neuron: Quorum Delegation"
   ]
  },
  {
   "cell_type": "code",
   "execution_count": 6,
   "metadata": {},
   "outputs": [],
   "source": [
    "def query_user_quorum(user_id: UserUUID,\n",
    "                      max_quorum_size: int=5) -> list[UserUUID]:\n",
    "    \"\"\"\n",
    "    Retrieves the Actual Quorum for an given delegating user.\n",
    "    Returns `None` if the User is non-delegating.\n",
    "    \"\"\"\n",
    "    (key, value) = USER_ACTIONS[user_id]\n",
    "    actual_quorum = None\n",
    "    if 'key' == 'Delegate':\n",
    "        actual_quorum = []\n",
    "        current_delegatees = value\n",
    "        for delegatee in current_delegatees:\n",
    "            delegatee_action = USER_ACTIONS[delegatee]\n",
    "\n",
    "            if delegatee_action == Action.RoundVote:\n",
    "                actual_quorum.append(delegatee)\n",
    "\n",
    "            if len(actual_quorum) == max_quorum_size:\n",
    "                return actual_quorum\n",
    "\n",
    "        return actual_quorum\n",
    "    else:\n",
    "        return None\n",
    "\n",
    "\n",
    "    \n",
    "def quorum_participation(quorum: list[UserUUID],\n",
    "                         project_id: ProjectUUID,\n",
    "                         quorum_size: int=5) -> float:\n",
    "    \"\"\"\n",
    "    Share of an quorum active participation towards an project.\n",
    "    \"\"\"\n",
    "    active_delegatees = 0\n",
    "    for delegatee in quorum:\n",
    "        if USER_ACTIONS[delegatee].get(project_id, None) is not None:\n",
    "            active_delegatees += 1\n",
    "\n",
    "    return active_delegatees / quorum_size\n",
    "\n",
    "\n",
    "def quorum_agreement(quorum: list[UserUUID],\n",
    "                     project_id: ProjectUUID,\n",
    "                     initial_agreement: float=0.0) -> float:\n",
    "    \"\"\"\n",
    "    Compute the quorum agreement between active participants\n",
    "    \"\"\"\n",
    "    agreement = initial_agreement\n",
    "    quorum_size = 0\n",
    "    for delegatee in quorum:\n",
    "        action = USER_ACTIONS[delegatee].get(project_id, None)\n",
    "        # Note: this logic can be different if we weight by User Voting Power\n",
    "        if action is not None:\n",
    "            quorum_size += 1\n",
    "            if action is Vote.Yes:\n",
    "                agreement += 1\n",
    "            elif action is Vote.No:\n",
    "                agreement += -1\n",
    "            else:\n",
    "                agreement += 0\n",
    "    return agreement / quorum_size\n",
    "\n",
    "def query_user_vote(user_id, project_id) -> Vote | Action:\n",
    "    \n",
    "    (action, payload) = USER_ACTIONS.get(user_id, (None, None))\n",
    "    if action is None:\n",
    "        return Vote.Abstain\n",
    "    \n",
    "    if action is Action.RoundVote:\n",
    "        project_vote = payload.get(project_id, None)\n",
    "        if project_vote is None:\n",
    "            return Vote.Abstain\n",
    "        else:\n",
    "            return project_vote\n",
    "\n",
    "    if action is Action.Delegate:\n",
    "        return Action.Delegate\n",
    "\n",
    "\n",
    "def quorum_delegate_result(user_id,\n",
    "                           project_id,\n",
    "                           participation_threshold=0.66,\n",
    "                           agreement_threshold=0.5):\n",
    "    \"\"\"\n",
    "    Oracle Module for the Quorum Delegation Neuron.\n",
    "    \"\"\"\n",
    "    \n",
    "    vote = query_user_vote(user_id, project_id)\n",
    "\n",
    "    if vote is Action.Delegate:\n",
    "        quorum = query_user_quorum(user_id)\n",
    "        if quorum_participation(quorum, project_id) > participation_threshold:\n",
    "            agreement = quorum_agreement(quorum, project_id)\n",
    "            if agreement > agreement_threshold:\n",
    "                return Vote.Yes\n",
    "            elif agreement < -agreement_threshold:\n",
    "                return Vote.No\n",
    "            else:\n",
    "                return Vote.Absent\n",
    "        else:\n",
    "            return Vote.Absent\n",
    "    else:\n",
    "        return vote"
   ]
  },
  {
   "cell_type": "markdown",
   "metadata": {},
   "source": [
    "#### 2nd Neuron: Reputation Score"
   ]
  },
  {
   "cell_type": "code",
   "execution_count": 7,
   "metadata": {},
   "outputs": [],
   "source": [
    "class ReputationCategory(Enum):\n",
    "    Excellent = 4\n",
    "    VeryGood = 3\n",
    "    Good = 2\n",
    "    Average = 1\n",
    "    Poor = 0\n",
    "    Uncategorized = -1\n",
    "\n",
    "@dataclass\n",
    "class ReputationAPI():\n",
    "    status: int\n",
    "    reputation_category: ReputationCategory\n",
    "\n",
    "    def get(user_id):\n",
    "        return ReputationAPI(status=200, \n",
    "                             reputation_category=ReputationCategory.Uncategorized)\n",
    "\n",
    "\n",
    "REPUTATION_SCORE_MAP = {\n",
    "    ReputationCategory.Excellent: 0.3,\n",
    "    ReputationCategory.VeryGood: 0.2,\n",
    "    ReputationCategory.Good: 0.1,\n",
    "    ReputationCategory.Average: 0.05,\n",
    "    ReputationCategory.Poor: 0.0,\n",
    "    ReputationCategory.Uncategorized: 0.0\n",
    "}\n",
    "\n",
    "def reputation_score(user_id) -> VotingPower:\n",
    "    \"\"\"\n",
    "    Oracle Module for the Reputation Score\n",
    "    \"\"\"\n",
    "    bonus = 0.0\n",
    "    api_result = ReputationAPI.get(user_id)\n",
    "    if api_result.status == 200:\n",
    "        bonus = REPUTATION_SCORE_MAP[api_result.reputation_category]\n",
    "    return bonus"
   ]
  },
  {
   "cell_type": "markdown",
   "metadata": {},
   "source": [
    "#### 3rd Neuron: Prior Voting Score"
   ]
  },
  {
   "cell_type": "code",
   "execution_count": 8,
   "metadata": {},
   "outputs": [],
   "source": [
    "@dataclass\n",
    "class PastVotingAPI():\n",
    "    status: int\n",
    "    active_rounds: list[int]\n",
    "\n",
    "    def get(user_id):\n",
    "        return PastVotingAPI(status=200, \n",
    "                             active_rounds=[2, 3])\n",
    "\n",
    "ROUND_BONUS_MAP = {\n",
    "    1: 0.0,\n",
    "    2: 0.1,\n",
    "    3: 0.2,\n",
    "    4: 0.3\n",
    "}\n",
    "\n",
    "def prior_voting_score(user_id, project_id, _) -> VotingPower:\n",
    "    \"\"\"\n",
    "    Oracle Module for the Prior Voting Score\n",
    "    \"\"\"\n",
    "\n",
    "    bonus = 0.0\n",
    "    api_result = PastVotingAPI.get(user_id)\n",
    "    if api_result.status == 200:\n",
    "        user_active_rounds = api_result.active_rounds\n",
    "        for active_round in user_active_rounds:\n",
    "            bonus += ROUND_BONUS_MAP[active_round]"
   ]
  },
  {
   "cell_type": "markdown",
   "metadata": {},
   "source": [
    "#### 4th Neuron: Trust Graph Bonus"
   ]
  },
  {
   "cell_type": "code",
   "execution_count": 9,
   "metadata": {},
   "outputs": [],
   "source": [
    "# 1) Definitions\n",
    "\n",
    "# Key is the Trusting User and the Value Set are the Users being Trusted\n",
    "TrustGraph = dict[UserUUID, list[UserUUID]]\n",
    "\n",
    "def compute_trust_score(raw_graph: dict) -> dict[UserUUID, float]:\n",
    "    \"\"\"\n",
    "    Computes an Trust Score as based on the Canonical Page Rank.\n",
    "\n",
    "    This is done by computing the Page Rank on the whole Trust Graph\n",
    "    with default arguments and scaling the results through MinMax.\n",
    "    \n",
    "    The resulting scores will be contained between 0.0 and 1.0\n",
    "    \"\"\"\n",
    "    G = nx.from_dict_of_lists(raw_graph,\n",
    "                              create_using=nx.DiGraph)\n",
    "\n",
    "    pagerank_values = nx.pagerank(G, \n",
    "                                  alpha=0.85, \n",
    "                                  personalization=None, \n",
    "                                  max_iter=100,\n",
    "                                  tol=1e-6,\n",
    "                                  nstart=None,\n",
    "                                  weight=None,\n",
    "                                  dangling=None)\n",
    "    \n",
    "    max_value = max(pagerank_values.values())\n",
    "    min_value = min(pagerank_values.values())\n",
    "    trust_score = {user: (value - min_value) / (max_value - min_value)\n",
    "                   for (user, value) in pagerank_values.items()}\n",
    "    return trust_score\n",
    "\n",
    "# 2) Backend inputs\n",
    "\n",
    "TRUST_BONUS_PER_USER = compute_trust_score(TRUST_GRAPH)\n",
    "\n",
    "# 3) Implementing an Oracle\n",
    "\n",
    "def trust_score(user_id: UserUUID) -> VotingPower:\n",
    "    \"\"\"\n",
    "    Oracle for the Trust Bonus.\n",
    "    \"\"\"\n",
    "    return TRUST_BONUS_PER_USER[user_id]"
   ]
  },
  {
   "cell_type": "markdown",
   "metadata": {},
   "source": [
    "### Setting up the Neural Governance Environment"
   ]
  },
  {
   "cell_type": "code",
   "execution_count": 11,
   "metadata": {},
   "outputs": [
    {
     "ename": "TypeError",
     "evalue": "unsupported operand type(s) for *: 'float' and 'Vote'",
     "output_type": "error",
     "traceback": [
      "\u001b[0;31m---------------------------------------------------------------------------\u001b[0m",
      "\u001b[0;31mTypeError\u001b[0m                                 Traceback (most recent call last)",
      "Cell \u001b[0;32mIn[11], line 28\u001b[0m\n\u001b[1;32m     26\u001b[0m \u001b[39mfor\u001b[39;00m user \u001b[39min\u001b[39;00m USERS:\n\u001b[1;32m     27\u001b[0m     args \u001b[39m=\u001b[39m (user, project, NEURAL_GOVERNANCE_LAYERS)\n\u001b[0;32m---> 28\u001b[0m     project_vote_power[project] \u001b[39m+\u001b[39m\u001b[39m=\u001b[39m user_project_vote_power(\u001b[39m*\u001b[39;49margs)\n",
      "Cell \u001b[0;32mIn[5], line 19\u001b[0m, in \u001b[0;36muser_project_vote_power\u001b[0;34m(uid, pid, neuron_layers, initial_votes)\u001b[0m\n\u001b[1;32m     17\u001b[0m         raw_neuron_vote \u001b[39m=\u001b[39m oracle_function(uid, pid, current_vote)\n\u001b[1;32m     18\u001b[0m         neuron_votes\u001b[39m.\u001b[39mappend(weighting_function(raw_neuron_vote))\n\u001b[0;32m---> 19\u001b[0m     current_vote \u001b[39m=\u001b[39m layer_aggregator(neuron_votes)\n\u001b[1;32m     20\u001b[0m \u001b[39mreturn\u001b[39;00m current_vote\n",
      "Cell \u001b[0;32mIn[11], line 3\u001b[0m, in \u001b[0;36m<lambda>\u001b[0;34m(lst)\u001b[0m\n\u001b[1;32m      1\u001b[0m LAYER_1_AGGREGATOR \u001b[39m=\u001b[39m \u001b[39mlambda\u001b[39;00m lst: \u001b[39msum\u001b[39m(lst)\n\u001b[1;32m      2\u001b[0m \u001b[39m# Take the product of the list\u001b[39;00m\n\u001b[0;32m----> 3\u001b[0m LAYER_2_AGGREGATOR \u001b[39m=\u001b[39m \u001b[39mlambda\u001b[39;00m lst: reduce((\u001b[39mlambda\u001b[39;49;00m x, y: x \u001b[39m*\u001b[39;49m y), lst) \n\u001b[1;32m      5\u001b[0m LAYER_1_NEURONS \u001b[39m=\u001b[39m {\n\u001b[1;32m      6\u001b[0m     \u001b[39m'\u001b[39m\u001b[39mtrust_score\u001b[39m\u001b[39m'\u001b[39m: (\u001b[39mlambda\u001b[39;00m uid, _1, _2: trust_score(uid),\n\u001b[1;32m      7\u001b[0m                     \u001b[39mlambda\u001b[39;00m x: x),\n\u001b[1;32m      8\u001b[0m     \u001b[39m'\u001b[39m\u001b[39mreputation_score\u001b[39m\u001b[39m'\u001b[39m: (\u001b[39mlambda\u001b[39;00m uid, _1, _2: reputation_score(uid),\n\u001b[1;32m      9\u001b[0m                          \u001b[39mlambda\u001b[39;00m x: x)\n\u001b[1;32m     10\u001b[0m }\n\u001b[1;32m     12\u001b[0m LAYER_2_NEURONS \u001b[39m=\u001b[39m {\n\u001b[1;32m     13\u001b[0m     \u001b[39m'\u001b[39m\u001b[39mpower_before_delegation\u001b[39m\u001b[39m'\u001b[39m: (\u001b[39mlambda\u001b[39;00m _1, _2, prev_vote: prev_vote,\n\u001b[1;32m     14\u001b[0m                                 \u001b[39mlambda\u001b[39;00m x: x),\n\u001b[1;32m     15\u001b[0m     \u001b[39m'\u001b[39m\u001b[39mquorum_delegation\u001b[39m\u001b[39m'\u001b[39m: (\u001b[39mlambda\u001b[39;00m u, p, _: quorum_delegate_result(u, p), \n\u001b[1;32m     16\u001b[0m                           \u001b[39mlambda\u001b[39;00m x: x) \u001b[39m# Either 0.0 or 1.0\u001b[39;00m\n\u001b[1;32m     17\u001b[0m }\n",
      "Cell \u001b[0;32mIn[11], line 3\u001b[0m, in \u001b[0;36m<lambda>\u001b[0;34m(x, y)\u001b[0m\n\u001b[1;32m      1\u001b[0m LAYER_1_AGGREGATOR \u001b[39m=\u001b[39m \u001b[39mlambda\u001b[39;00m lst: \u001b[39msum\u001b[39m(lst)\n\u001b[1;32m      2\u001b[0m \u001b[39m# Take the product of the list\u001b[39;00m\n\u001b[0;32m----> 3\u001b[0m LAYER_2_AGGREGATOR \u001b[39m=\u001b[39m \u001b[39mlambda\u001b[39;00m lst: reduce((\u001b[39mlambda\u001b[39;00m x, y: x \u001b[39m*\u001b[39;49m y), lst) \n\u001b[1;32m      5\u001b[0m LAYER_1_NEURONS \u001b[39m=\u001b[39m {\n\u001b[1;32m      6\u001b[0m     \u001b[39m'\u001b[39m\u001b[39mtrust_score\u001b[39m\u001b[39m'\u001b[39m: (\u001b[39mlambda\u001b[39;00m uid, _1, _2: trust_score(uid),\n\u001b[1;32m      7\u001b[0m                     \u001b[39mlambda\u001b[39;00m x: x),\n\u001b[1;32m      8\u001b[0m     \u001b[39m'\u001b[39m\u001b[39mreputation_score\u001b[39m\u001b[39m'\u001b[39m: (\u001b[39mlambda\u001b[39;00m uid, _1, _2: reputation_score(uid),\n\u001b[1;32m      9\u001b[0m                          \u001b[39mlambda\u001b[39;00m x: x)\n\u001b[1;32m     10\u001b[0m }\n\u001b[1;32m     12\u001b[0m LAYER_2_NEURONS \u001b[39m=\u001b[39m {\n\u001b[1;32m     13\u001b[0m     \u001b[39m'\u001b[39m\u001b[39mpower_before_delegation\u001b[39m\u001b[39m'\u001b[39m: (\u001b[39mlambda\u001b[39;00m _1, _2, prev_vote: prev_vote,\n\u001b[1;32m     14\u001b[0m                                 \u001b[39mlambda\u001b[39;00m x: x),\n\u001b[1;32m     15\u001b[0m     \u001b[39m'\u001b[39m\u001b[39mquorum_delegation\u001b[39m\u001b[39m'\u001b[39m: (\u001b[39mlambda\u001b[39;00m u, p, _: quorum_delegate_result(u, p), \n\u001b[1;32m     16\u001b[0m                           \u001b[39mlambda\u001b[39;00m x: x) \u001b[39m# Either 0.0 or 1.0\u001b[39;00m\n\u001b[1;32m     17\u001b[0m }\n",
      "\u001b[0;31mTypeError\u001b[0m: unsupported operand type(s) for *: 'float' and 'Vote'"
     ]
    }
   ],
   "source": [
    "\n",
    "LAYER_1_AGGREGATOR = lambda lst: sum(lst)\n",
    "# Take the product of the list\n",
    "LAYER_2_AGGREGATOR = lambda lst: reduce((lambda x, y: x * y), lst) \n",
    "\n",
    "LAYER_1_NEURONS = {\n",
    "    'trust_score': (lambda uid, _1, _2: trust_score(uid),\n",
    "                    lambda x: x),\n",
    "    'reputation_score': (lambda uid, _1, _2: reputation_score(uid),\n",
    "                         lambda x: x)\n",
    "}\n",
    "\n",
    "LAYER_2_NEURONS = {\n",
    "    'power_before_delegation': (lambda _1, _2, prev_vote: prev_vote,\n",
    "                                lambda x: x),\n",
    "    'quorum_delegation': (lambda u, p, _: quorum_delegate_result(u, p), \n",
    "                          lambda x: x) # Either 0.0 or 1.0\n",
    "}\n",
    "\n",
    "NEURAL_GOVERNANCE_LAYERS = [(LAYER_1_NEURONS, LAYER_1_AGGREGATOR),\n",
    "                            (LAYER_2_NEURONS, LAYER_2_AGGREGATOR)]\n",
    "\n",
    "# 5) Compute Final Output    \n",
    "\n",
    "project_vote_power = defaultdict(float)\n",
    "for project in PROJECTS:\n",
    "    for user in USERS:\n",
    "        args = (user, project, NEURAL_GOVERNANCE_LAYERS)\n",
    "        project_vote_power[project] += user_project_vote_power(*args) "
   ]
  },
  {
   "cell_type": "markdown",
   "metadata": {},
   "source": []
  }
 ],
 "metadata": {
  "kernelspec": {
   "display_name": "Python 3",
   "language": "python",
   "name": "python3"
  },
  "language_info": {
   "codemirror_mode": {
    "name": "ipython",
    "version": 3
   },
   "file_extension": ".py",
   "mimetype": "text/x-python",
   "name": "python",
   "nbconvert_exporter": "python",
   "pygments_lexer": "ipython3",
   "version": "3.10.9"
  },
  "orig_nbformat": 4
 },
 "nbformat": 4,
 "nbformat_minor": 2
}
